{
  "nbformat": 4,
  "nbformat_minor": 0,
  "metadata": {
    "colab": {
      "provenance": []
    },
    "kernelspec": {
      "name": "python3",
      "display_name": "Python 3"
    },
    "language_info": {
      "name": "python"
    }
  },
  "cells": [
    {
      "cell_type": "code",
      "source": [
        "import numpy as np"
      ],
      "metadata": {
        "id": "_5jlwG8rARVp"
      },
      "execution_count": null,
      "outputs": []
    },
    {
      "cell_type": "code",
      "execution_count": null,
      "metadata": {
        "id": "UBMpq27u_vWr"
      },
      "outputs": [],
      "source": [
        "from sklearn.datasets import load_iris\n",
        "iris = load_iris(as_frame=True)"
      ]
    },
    {
      "cell_type": "markdown",
      "source": [
        "Add bias term"
      ],
      "metadata": {
        "id": "fmZRsQ_fDlop"
      }
    },
    {
      "cell_type": "code",
      "source": [
        "X = iris.data[[\"petal length (cm)\", \"petal width (cm)\"]].values\n",
        "y = iris[\"target\"].values\n",
        "X_b = np.insert(X,0,1,axis=1)\n",
        "X_b"
      ],
      "metadata": {
        "id": "NkKSty83Al7O"
      },
      "execution_count": null,
      "outputs": []
    },
    {
      "cell_type": "markdown",
      "source": [
        "Split the data set into training set, validation set, test set."
      ],
      "metadata": {
        "id": "Oh4x5zOFDpru"
      }
    },
    {
      "cell_type": "code",
      "source": [
        "train_size = int(0.6*len(X))\n",
        "test_size = int(0.2*len(X))\n",
        "val_size = int(0.2*len(X))\n",
        "shuffle = np.random.permutation(len(X))\n",
        "\n",
        "X_b = X_b[shuffle]\n",
        "y = y[shuffle]\n",
        "\n",
        "X_train = X_b[:train_size]\n",
        "y_train = y[:train_size]\n",
        "X_val = X_b[train_size:train_size+val_size]\n",
        "y_val = y[train_size:train_size+val_size]\n",
        "X_test = X_b[train_size+val_size:]\n",
        "y_test = y[train_size+val_size:]"
      ],
      "metadata": {
        "id": "KsxiRN7vDouD"
      },
      "execution_count": null,
      "outputs": []
    },
    {
      "cell_type": "markdown",
      "source": [
        "One hot vectorization for classification."
      ],
      "metadata": {
        "id": "3bhgptOY_kDy"
      }
    },
    {
      "cell_type": "code",
      "source": [
        "y_train_class = np.eye(3)[y_train]\n",
        "y_test_class = np.eye(3)[y_test]\n",
        "y_val_class = np.eye(3)[y_val]"
      ],
      "metadata": {
        "id": "j189558ETQVt"
      },
      "execution_count": null,
      "outputs": []
    },
    {
      "cell_type": "markdown",
      "source": [
        "Standardization"
      ],
      "metadata": {
        "id": "dVgQPPt4_i96"
      }
    },
    {
      "cell_type": "code",
      "source": [
        "mean = X_train[:,1:].mean(axis=0)\n",
        "std = X_train[:,1:].std(axis=0)\n",
        "X_train[:, 1:] = (X_train[:, 1:] - mean) / std\n",
        "X_val[:, 1:] = (X_val[:, 1:] - mean) / std\n",
        "X_test[:, 1:] = (X_test[:, 1:] - mean) / std"
      ],
      "metadata": {
        "id": "kD6Ixw47_aZ-"
      },
      "execution_count": null,
      "outputs": []
    },
    {
      "cell_type": "markdown",
      "source": [
        "Softmax\n",
        "\n",
        "$\\sigma\\left(\\mathbf{s}(\\mathbf{x})\\right)_k = \\dfrac{\\exp\\left(s_k(\\mathbf{x})\\right)}{\\sum\\limits_{j=1}^{K}{\\exp\\left(s_j(\\mathbf{x})\\right)}}$"
      ],
      "metadata": {
        "id": "3ycwh3bVBPrn"
      }
    },
    {
      "cell_type": "code",
      "source": [
        "def softmax(x):\n",
        "    exps = np.exp(x)\n",
        "    exp_sums = exps.sum(axis=1, keepdims=True)\n",
        "    return exps / exp_sums"
      ],
      "metadata": {
        "id": "UnpF0RdEBPR2"
      },
      "execution_count": null,
      "outputs": []
    },
    {
      "cell_type": "code",
      "source": [
        "n_inputs = X_train.shape[1]\n",
        "print(n_inputs)\n",
        "n_outputs = len(np.unique(y_train))\n",
        "print(n_outputs)"
      ],
      "metadata": {
        "colab": {
          "base_uri": "https://localhost:8080/"
        },
        "id": "C1EQ1uYyBSwz",
        "outputId": "ee355e79-37ac-45e5-b5e1-58b5e518c182"
      },
      "execution_count": null,
      "outputs": [
        {
          "output_type": "stream",
          "name": "stdout",
          "text": [
            "3\n",
            "3\n"
          ]
        }
      ]
    },
    {
      "cell_type": "code",
      "source": [
        "def calculate_loss(y,A,epilson):\n",
        "  loss = -(y * np.log(A+epilson))\n",
        "  return loss"
      ],
      "metadata": {
        "id": "_ZVMoWMJ4ein"
      },
      "execution_count": null,
      "outputs": []
    },
    {
      "cell_type": "code",
      "source": [
        "def calculate_cost(loss):\n",
        "  cost = np.sum(loss) / len(X_train)\n",
        "  return cost"
      ],
      "metadata": {
        "id": "UaKWmirS5ubo"
      },
      "execution_count": null,
      "outputs": []
    },
    {
      "cell_type": "code",
      "source": [
        "def gradient(A,X,Y):\n",
        "  gradients = 1 / len(X) * X.T @ (A-Y)\n",
        "  return gradients"
      ],
      "metadata": {
        "id": "JvDBBWyP6IZr"
      },
      "execution_count": null,
      "outputs": []
    },
    {
      "cell_type": "code",
      "source": [
        "def update(gradient,theta,learning_rate):\n",
        "  new_theta = theta - learning_rate * gradient\n",
        "  return new_theta"
      ],
      "metadata": {
        "id": "OGxlUUL26aHP"
      },
      "execution_count": null,
      "outputs": []
    },
    {
      "cell_type": "markdown",
      "source": [
        "Training"
      ],
      "metadata": {
        "id": "ALFtpW7LCmhj"
      }
    },
    {
      "cell_type": "code",
      "source": [
        "num_iterations = 30001\n",
        "learning_rate = 0.1\n",
        "epilson = 1e-5\n",
        "costs = []\n",
        "np.random.seed(42)\n",
        "theta = np.random.rand(n_inputs,n_outputs)\n",
        "\n",
        "best_val_loss = np.inf  # initialize best validation loss\n",
        "patience = 1000  # number of iterations to wait before stopping\n",
        "wait = 0  # counter for how long to wait\n",
        "prev_cost = np.inf \n",
        "for i in range(num_iterations):\n",
        "    B_training = X_train @ theta\n",
        "    A = softmax(B_training)\n",
        "    B_val = softmax(X_val @ theta)\n",
        "    loss = calculate_loss(y_val_class,B_val,epilson)\n",
        "    val_total_cost = loss.sum(axis=1).mean()\n",
        "    costs.append(val_total_cost)\n",
        "    if i % 500 == 0:\n",
        "        print(i, val_total_cost)\n",
        "    if val_total_cost < prev_cost:\n",
        "      wait = 0\n",
        "    if val_total_cost > prev_cost:\n",
        "      wait += 1\n",
        "      if wait >= patience:\n",
        "        print(i,val_total_cost, prev_cost)\n",
        "        print(\"Stopping early due to increasing cost\")\n",
        "        break\n",
        "    prev_cost = val_total_cost\n",
        "    gradients = gradient(A,X_train,y_train_class)\n",
        "    theta = theta - learning_rate * gradients"
      ],
      "metadata": {
        "colab": {
          "base_uri": "https://localhost:8080/"
        },
        "id": "bPlX6ZY9CmKC",
        "outputId": "8ddd2816-4b87-44f7-aeeb-0cde397c79d6"
      },
      "execution_count": null,
      "outputs": [
        {
          "output_type": "stream",
          "name": "stdout",
          "text": [
            "0 1.0920339628358051\n",
            "500 0.2149770617605408\n",
            "1000 0.18071820409577685\n",
            "1500 0.17242847862385752\n",
            "2000 0.17098106361702115\n",
            "2500 0.1721146265841299\n",
            "2959 0.1741858542728771 0.1741806895956106\n",
            "Stopping early due to increasing cost\n"
          ]
        }
      ]
    },
    {
      "cell_type": "code",
      "source": [
        "theta"
      ],
      "metadata": {
        "colab": {
          "base_uri": "https://localhost:8080/"
        },
        "id": "xeU86uEW71YK",
        "outputId": "5fd97221-475b-474c-cf52-f90302e43f5c"
      },
      "execution_count": null,
      "outputs": [
        {
          "output_type": "execute_result",
          "data": {
            "text/plain": [
              "array([[-0.09821036,  3.9408568 , -1.78539808],\n",
              "       [-3.52002429,  0.0556803 ,  4.37501564],\n",
              "       [-3.60455799,  0.07686006,  5.0530727 ]])"
            ]
          },
          "metadata": {},
          "execution_count": 201
        }
      ]
    },
    {
      "cell_type": "code",
      "source": [
        "logits = X_val @ theta\n",
        "Y_proba = softmax(logits)\n",
        "y_predict = Y_proba.argmax(axis=1)\n",
        "\n",
        "accuracy_score = (y_predict == y_val).mean()\n",
        "accuracy_score"
      ],
      "metadata": {
        "colab": {
          "base_uri": "https://localhost:8080/"
        },
        "id": "1G9hqk2SDQDd",
        "outputId": "b044b9f6-a2cd-4748-d47a-844b665f5ad3"
      },
      "execution_count": null,
      "outputs": [
        {
          "output_type": "execute_result",
          "data": {
            "text/plain": [
              "0.9"
            ]
          },
          "metadata": {},
          "execution_count": 202
        }
      ]
    }
  ]
}