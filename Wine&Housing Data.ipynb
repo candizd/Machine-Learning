{
  "nbformat": 4,
  "nbformat_minor": 0,
  "metadata": {
    "colab": {
      "provenance": []
    },
    "kernelspec": {
      "name": "python3",
      "display_name": "Python 3"
    },
    "language_info": {
      "name": "python"
    }
  },
  "cells": [
    {
      "cell_type": "code",
      "execution_count": 1,
      "metadata": {
        "id": "sc1sFtE3qAH4"
      },
      "outputs": [],
      "source": [
        "from sklearn.datasets import load_wine\n",
        "from sklearn.model_selection import train_test_split\n",
        "from sklearn.svm import SVC\n",
        "from sklearn.metrics import accuracy_score\n",
        "from sklearn.model_selection import cross_val_score\n",
        "from sklearn.pipeline import make_pipeline"
      ]
    },
    {
      "cell_type": "code",
      "source": [
        "# Load the wine dataset\n",
        "data = load_wine(as_frame=True)\n",
        "data"
      ],
      "metadata": {
        "id": "71sCZeA_qDam",
        "colab": {
          "base_uri": "https://localhost:8080/"
        },
        "outputId": "ef99f02a-ca0a-42d1-dd4b-2ef28e06644c"
      },
      "execution_count": 2,
      "outputs": [
        {
          "output_type": "execute_result",
          "data": {
            "text/plain": [
              "{'data':      alcohol  malic_acid   ash  alcalinity_of_ash  magnesium  total_phenols  \\\n",
              " 0      14.23        1.71  2.43               15.6      127.0           2.80   \n",
              " 1      13.20        1.78  2.14               11.2      100.0           2.65   \n",
              " 2      13.16        2.36  2.67               18.6      101.0           2.80   \n",
              " 3      14.37        1.95  2.50               16.8      113.0           3.85   \n",
              " 4      13.24        2.59  2.87               21.0      118.0           2.80   \n",
              " ..       ...         ...   ...                ...        ...            ...   \n",
              " 173    13.71        5.65  2.45               20.5       95.0           1.68   \n",
              " 174    13.40        3.91  2.48               23.0      102.0           1.80   \n",
              " 175    13.27        4.28  2.26               20.0      120.0           1.59   \n",
              " 176    13.17        2.59  2.37               20.0      120.0           1.65   \n",
              " 177    14.13        4.10  2.74               24.5       96.0           2.05   \n",
              " \n",
              "      flavanoids  nonflavanoid_phenols  proanthocyanins  color_intensity   hue  \\\n",
              " 0          3.06                  0.28             2.29             5.64  1.04   \n",
              " 1          2.76                  0.26             1.28             4.38  1.05   \n",
              " 2          3.24                  0.30             2.81             5.68  1.03   \n",
              " 3          3.49                  0.24             2.18             7.80  0.86   \n",
              " 4          2.69                  0.39             1.82             4.32  1.04   \n",
              " ..          ...                   ...              ...              ...   ...   \n",
              " 173        0.61                  0.52             1.06             7.70  0.64   \n",
              " 174        0.75                  0.43             1.41             7.30  0.70   \n",
              " 175        0.69                  0.43             1.35            10.20  0.59   \n",
              " 176        0.68                  0.53             1.46             9.30  0.60   \n",
              " 177        0.76                  0.56             1.35             9.20  0.61   \n",
              " \n",
              "      od280/od315_of_diluted_wines  proline  \n",
              " 0                            3.92   1065.0  \n",
              " 1                            3.40   1050.0  \n",
              " 2                            3.17   1185.0  \n",
              " 3                            3.45   1480.0  \n",
              " 4                            2.93    735.0  \n",
              " ..                            ...      ...  \n",
              " 173                          1.74    740.0  \n",
              " 174                          1.56    750.0  \n",
              " 175                          1.56    835.0  \n",
              " 176                          1.62    840.0  \n",
              " 177                          1.60    560.0  \n",
              " \n",
              " [178 rows x 13 columns],\n",
              " 'target': 0      0\n",
              " 1      0\n",
              " 2      0\n",
              " 3      0\n",
              " 4      0\n",
              "       ..\n",
              " 173    2\n",
              " 174    2\n",
              " 175    2\n",
              " 176    2\n",
              " 177    2\n",
              " Name: target, Length: 178, dtype: int64,\n",
              " 'frame':      alcohol  malic_acid   ash  alcalinity_of_ash  magnesium  total_phenols  \\\n",
              " 0      14.23        1.71  2.43               15.6      127.0           2.80   \n",
              " 1      13.20        1.78  2.14               11.2      100.0           2.65   \n",
              " 2      13.16        2.36  2.67               18.6      101.0           2.80   \n",
              " 3      14.37        1.95  2.50               16.8      113.0           3.85   \n",
              " 4      13.24        2.59  2.87               21.0      118.0           2.80   \n",
              " ..       ...         ...   ...                ...        ...            ...   \n",
              " 173    13.71        5.65  2.45               20.5       95.0           1.68   \n",
              " 174    13.40        3.91  2.48               23.0      102.0           1.80   \n",
              " 175    13.27        4.28  2.26               20.0      120.0           1.59   \n",
              " 176    13.17        2.59  2.37               20.0      120.0           1.65   \n",
              " 177    14.13        4.10  2.74               24.5       96.0           2.05   \n",
              " \n",
              "      flavanoids  nonflavanoid_phenols  proanthocyanins  color_intensity   hue  \\\n",
              " 0          3.06                  0.28             2.29             5.64  1.04   \n",
              " 1          2.76                  0.26             1.28             4.38  1.05   \n",
              " 2          3.24                  0.30             2.81             5.68  1.03   \n",
              " 3          3.49                  0.24             2.18             7.80  0.86   \n",
              " 4          2.69                  0.39             1.82             4.32  1.04   \n",
              " ..          ...                   ...              ...              ...   ...   \n",
              " 173        0.61                  0.52             1.06             7.70  0.64   \n",
              " 174        0.75                  0.43             1.41             7.30  0.70   \n",
              " 175        0.69                  0.43             1.35            10.20  0.59   \n",
              " 176        0.68                  0.53             1.46             9.30  0.60   \n",
              " 177        0.76                  0.56             1.35             9.20  0.61   \n",
              " \n",
              "      od280/od315_of_diluted_wines  proline  target  \n",
              " 0                            3.92   1065.0       0  \n",
              " 1                            3.40   1050.0       0  \n",
              " 2                            3.17   1185.0       0  \n",
              " 3                            3.45   1480.0       0  \n",
              " 4                            2.93    735.0       0  \n",
              " ..                            ...      ...     ...  \n",
              " 173                          1.74    740.0       2  \n",
              " 174                          1.56    750.0       2  \n",
              " 175                          1.56    835.0       2  \n",
              " 176                          1.62    840.0       2  \n",
              " 177                          1.60    560.0       2  \n",
              " \n",
              " [178 rows x 14 columns],\n",
              " 'target_names': array(['class_0', 'class_1', 'class_2'], dtype='<U7'),\n",
              " 'DESCR': '.. _wine_dataset:\\n\\nWine recognition dataset\\n------------------------\\n\\n**Data Set Characteristics:**\\n\\n    :Number of Instances: 178\\n    :Number of Attributes: 13 numeric, predictive attributes and the class\\n    :Attribute Information:\\n \\t\\t- Alcohol\\n \\t\\t- Malic acid\\n \\t\\t- Ash\\n\\t\\t- Alcalinity of ash  \\n \\t\\t- Magnesium\\n\\t\\t- Total phenols\\n \\t\\t- Flavanoids\\n \\t\\t- Nonflavanoid phenols\\n \\t\\t- Proanthocyanins\\n\\t\\t- Color intensity\\n \\t\\t- Hue\\n \\t\\t- OD280/OD315 of diluted wines\\n \\t\\t- Proline\\n\\n    - class:\\n            - class_0\\n            - class_1\\n            - class_2\\n\\t\\t\\n    :Summary Statistics:\\n    \\n    ============================= ==== ===== ======= =====\\n                                   Min   Max   Mean     SD\\n    ============================= ==== ===== ======= =====\\n    Alcohol:                      11.0  14.8    13.0   0.8\\n    Malic Acid:                   0.74  5.80    2.34  1.12\\n    Ash:                          1.36  3.23    2.36  0.27\\n    Alcalinity of Ash:            10.6  30.0    19.5   3.3\\n    Magnesium:                    70.0 162.0    99.7  14.3\\n    Total Phenols:                0.98  3.88    2.29  0.63\\n    Flavanoids:                   0.34  5.08    2.03  1.00\\n    Nonflavanoid Phenols:         0.13  0.66    0.36  0.12\\n    Proanthocyanins:              0.41  3.58    1.59  0.57\\n    Colour Intensity:              1.3  13.0     5.1   2.3\\n    Hue:                          0.48  1.71    0.96  0.23\\n    OD280/OD315 of diluted wines: 1.27  4.00    2.61  0.71\\n    Proline:                       278  1680     746   315\\n    ============================= ==== ===== ======= =====\\n\\n    :Missing Attribute Values: None\\n    :Class Distribution: class_0 (59), class_1 (71), class_2 (48)\\n    :Creator: R.A. Fisher\\n    :Donor: Michael Marshall (MARSHALL%PLU@io.arc.nasa.gov)\\n    :Date: July, 1988\\n\\nThis is a copy of UCI ML Wine recognition datasets.\\nhttps://archive.ics.uci.edu/ml/machine-learning-databases/wine/wine.data\\n\\nThe data is the results of a chemical analysis of wines grown in the same\\nregion in Italy by three different cultivators. There are thirteen different\\nmeasurements taken for different constituents found in the three types of\\nwine.\\n\\nOriginal Owners: \\n\\nForina, M. et al, PARVUS - \\nAn Extendible Package for Data Exploration, Classification and Correlation. \\nInstitute of Pharmaceutical and Food Analysis and Technologies,\\nVia Brigata Salerno, 16147 Genoa, Italy.\\n\\nCitation:\\n\\nLichman, M. (2013). UCI Machine Learning Repository\\n[https://archive.ics.uci.edu/ml]. Irvine, CA: University of California,\\nSchool of Information and Computer Science. \\n\\n.. topic:: References\\n\\n  (1) S. Aeberhard, D. Coomans and O. de Vel, \\n  Comparison of Classifiers in High Dimensional Settings, \\n  Tech. Rep. no. 92-02, (1992), Dept. of Computer Science and Dept. of  \\n  Mathematics and Statistics, James Cook University of North Queensland. \\n  (Also submitted to Technometrics). \\n\\n  The data was used with many others for comparing various \\n  classifiers. The classes are separable, though only RDA \\n  has achieved 100% correct classification. \\n  (RDA : 100%, QDA 99.4%, LDA 98.9%, 1NN 96.1% (z-transformed data)) \\n  (All results using the leave-one-out technique) \\n\\n  (2) S. Aeberhard, D. Coomans and O. de Vel, \\n  \"THE CLASSIFICATION PERFORMANCE OF RDA\" \\n  Tech. Rep. no. 92-01, (1992), Dept. of Computer Science and Dept. of \\n  Mathematics and Statistics, James Cook University of North Queensland. \\n  (Also submitted to Journal of Chemometrics).\\n',\n",
              " 'feature_names': ['alcohol',\n",
              "  'malic_acid',\n",
              "  'ash',\n",
              "  'alcalinity_of_ash',\n",
              "  'magnesium',\n",
              "  'total_phenols',\n",
              "  'flavanoids',\n",
              "  'nonflavanoid_phenols',\n",
              "  'proanthocyanins',\n",
              "  'color_intensity',\n",
              "  'hue',\n",
              "  'od280/od315_of_diluted_wines',\n",
              "  'proline']}"
            ]
          },
          "metadata": {},
          "execution_count": 2
        }
      ]
    },
    {
      "cell_type": "code",
      "source": [
        "X = data.data\n",
        "y = data.target\n",
        "# Split the dataset into training and testing sets\n",
        "X_train, X_test, y_train, y_test = train_test_split(X, y, test_size=0.2, random_state=42)\n",
        "X_train"
      ],
      "metadata": {
        "colab": {
          "base_uri": "https://localhost:8080/",
          "height": 424
        },
        "id": "LOjvIhVGtr6s",
        "outputId": "0b23fc1b-a591-40aa-b8ae-3a20eb179ed1"
      },
      "execution_count": 3,
      "outputs": [
        {
          "output_type": "execute_result",
          "data": {
            "text/plain": [
              "     alcohol  malic_acid   ash  alcalinity_of_ash  magnesium  total_phenols  \\\n",
              "158    14.34        1.68  2.70               25.0       98.0           2.80   \n",
              "137    12.53        5.51  2.64               25.0       96.0           1.79   \n",
              "98     12.37        1.07  2.10               18.5       88.0           3.52   \n",
              "159    13.48        1.67  2.64               22.5       89.0           2.60   \n",
              "38     13.07        1.50  2.10               15.5       98.0           2.40   \n",
              "..       ...         ...   ...                ...        ...            ...   \n",
              "71     13.86        1.51  2.67               25.0       86.0           2.95   \n",
              "106    12.25        1.73  2.12               19.0       80.0           1.65   \n",
              "14     14.38        1.87  2.38               12.0      102.0           3.30   \n",
              "92     12.69        1.53  2.26               20.7       80.0           1.38   \n",
              "102    12.34        2.45  2.46               21.0       98.0           2.56   \n",
              "\n",
              "     flavanoids  nonflavanoid_phenols  proanthocyanins  color_intensity   hue  \\\n",
              "158        1.31                  0.53             2.70            13.00  0.57   \n",
              "137        0.60                  0.63             1.10             5.00  0.82   \n",
              "98         3.75                  0.24             1.95             4.50  1.04   \n",
              "159        1.10                  0.52             2.29            11.75  0.57   \n",
              "38         2.64                  0.28             1.37             3.70  1.18   \n",
              "..          ...                   ...              ...              ...   ...   \n",
              "71         2.86                  0.21             1.87             3.38  1.36   \n",
              "106        2.03                  0.37             1.63             3.40  1.00   \n",
              "14         3.64                  0.29             2.96             7.50  1.20   \n",
              "92         1.46                  0.58             1.62             3.05  0.96   \n",
              "102        2.11                  0.34             1.31             2.80  0.80   \n",
              "\n",
              "     od280/od315_of_diluted_wines  proline  \n",
              "158                          1.96    660.0  \n",
              "137                          1.69    515.0  \n",
              "98                           2.77    660.0  \n",
              "159                          1.78    620.0  \n",
              "38                           2.69   1020.0  \n",
              "..                            ...      ...  \n",
              "71                           3.16    410.0  \n",
              "106                          3.17    510.0  \n",
              "14                           3.00   1547.0  \n",
              "92                           2.06    495.0  \n",
              "102                          3.38    438.0  \n",
              "\n",
              "[142 rows x 13 columns]"
            ],
            "text/html": [
              "\n",
              "  <div id=\"df-5841f255-21c4-44bc-aaa2-dbe8af5a1716\">\n",
              "    <div class=\"colab-df-container\">\n",
              "      <div>\n",
              "<style scoped>\n",
              "    .dataframe tbody tr th:only-of-type {\n",
              "        vertical-align: middle;\n",
              "    }\n",
              "\n",
              "    .dataframe tbody tr th {\n",
              "        vertical-align: top;\n",
              "    }\n",
              "\n",
              "    .dataframe thead th {\n",
              "        text-align: right;\n",
              "    }\n",
              "</style>\n",
              "<table border=\"1\" class=\"dataframe\">\n",
              "  <thead>\n",
              "    <tr style=\"text-align: right;\">\n",
              "      <th></th>\n",
              "      <th>alcohol</th>\n",
              "      <th>malic_acid</th>\n",
              "      <th>ash</th>\n",
              "      <th>alcalinity_of_ash</th>\n",
              "      <th>magnesium</th>\n",
              "      <th>total_phenols</th>\n",
              "      <th>flavanoids</th>\n",
              "      <th>nonflavanoid_phenols</th>\n",
              "      <th>proanthocyanins</th>\n",
              "      <th>color_intensity</th>\n",
              "      <th>hue</th>\n",
              "      <th>od280/od315_of_diluted_wines</th>\n",
              "      <th>proline</th>\n",
              "    </tr>\n",
              "  </thead>\n",
              "  <tbody>\n",
              "    <tr>\n",
              "      <th>158</th>\n",
              "      <td>14.34</td>\n",
              "      <td>1.68</td>\n",
              "      <td>2.70</td>\n",
              "      <td>25.0</td>\n",
              "      <td>98.0</td>\n",
              "      <td>2.80</td>\n",
              "      <td>1.31</td>\n",
              "      <td>0.53</td>\n",
              "      <td>2.70</td>\n",
              "      <td>13.00</td>\n",
              "      <td>0.57</td>\n",
              "      <td>1.96</td>\n",
              "      <td>660.0</td>\n",
              "    </tr>\n",
              "    <tr>\n",
              "      <th>137</th>\n",
              "      <td>12.53</td>\n",
              "      <td>5.51</td>\n",
              "      <td>2.64</td>\n",
              "      <td>25.0</td>\n",
              "      <td>96.0</td>\n",
              "      <td>1.79</td>\n",
              "      <td>0.60</td>\n",
              "      <td>0.63</td>\n",
              "      <td>1.10</td>\n",
              "      <td>5.00</td>\n",
              "      <td>0.82</td>\n",
              "      <td>1.69</td>\n",
              "      <td>515.0</td>\n",
              "    </tr>\n",
              "    <tr>\n",
              "      <th>98</th>\n",
              "      <td>12.37</td>\n",
              "      <td>1.07</td>\n",
              "      <td>2.10</td>\n",
              "      <td>18.5</td>\n",
              "      <td>88.0</td>\n",
              "      <td>3.52</td>\n",
              "      <td>3.75</td>\n",
              "      <td>0.24</td>\n",
              "      <td>1.95</td>\n",
              "      <td>4.50</td>\n",
              "      <td>1.04</td>\n",
              "      <td>2.77</td>\n",
              "      <td>660.0</td>\n",
              "    </tr>\n",
              "    <tr>\n",
              "      <th>159</th>\n",
              "      <td>13.48</td>\n",
              "      <td>1.67</td>\n",
              "      <td>2.64</td>\n",
              "      <td>22.5</td>\n",
              "      <td>89.0</td>\n",
              "      <td>2.60</td>\n",
              "      <td>1.10</td>\n",
              "      <td>0.52</td>\n",
              "      <td>2.29</td>\n",
              "      <td>11.75</td>\n",
              "      <td>0.57</td>\n",
              "      <td>1.78</td>\n",
              "      <td>620.0</td>\n",
              "    </tr>\n",
              "    <tr>\n",
              "      <th>38</th>\n",
              "      <td>13.07</td>\n",
              "      <td>1.50</td>\n",
              "      <td>2.10</td>\n",
              "      <td>15.5</td>\n",
              "      <td>98.0</td>\n",
              "      <td>2.40</td>\n",
              "      <td>2.64</td>\n",
              "      <td>0.28</td>\n",
              "      <td>1.37</td>\n",
              "      <td>3.70</td>\n",
              "      <td>1.18</td>\n",
              "      <td>2.69</td>\n",
              "      <td>1020.0</td>\n",
              "    </tr>\n",
              "    <tr>\n",
              "      <th>...</th>\n",
              "      <td>...</td>\n",
              "      <td>...</td>\n",
              "      <td>...</td>\n",
              "      <td>...</td>\n",
              "      <td>...</td>\n",
              "      <td>...</td>\n",
              "      <td>...</td>\n",
              "      <td>...</td>\n",
              "      <td>...</td>\n",
              "      <td>...</td>\n",
              "      <td>...</td>\n",
              "      <td>...</td>\n",
              "      <td>...</td>\n",
              "    </tr>\n",
              "    <tr>\n",
              "      <th>71</th>\n",
              "      <td>13.86</td>\n",
              "      <td>1.51</td>\n",
              "      <td>2.67</td>\n",
              "      <td>25.0</td>\n",
              "      <td>86.0</td>\n",
              "      <td>2.95</td>\n",
              "      <td>2.86</td>\n",
              "      <td>0.21</td>\n",
              "      <td>1.87</td>\n",
              "      <td>3.38</td>\n",
              "      <td>1.36</td>\n",
              "      <td>3.16</td>\n",
              "      <td>410.0</td>\n",
              "    </tr>\n",
              "    <tr>\n",
              "      <th>106</th>\n",
              "      <td>12.25</td>\n",
              "      <td>1.73</td>\n",
              "      <td>2.12</td>\n",
              "      <td>19.0</td>\n",
              "      <td>80.0</td>\n",
              "      <td>1.65</td>\n",
              "      <td>2.03</td>\n",
              "      <td>0.37</td>\n",
              "      <td>1.63</td>\n",
              "      <td>3.40</td>\n",
              "      <td>1.00</td>\n",
              "      <td>3.17</td>\n",
              "      <td>510.0</td>\n",
              "    </tr>\n",
              "    <tr>\n",
              "      <th>14</th>\n",
              "      <td>14.38</td>\n",
              "      <td>1.87</td>\n",
              "      <td>2.38</td>\n",
              "      <td>12.0</td>\n",
              "      <td>102.0</td>\n",
              "      <td>3.30</td>\n",
              "      <td>3.64</td>\n",
              "      <td>0.29</td>\n",
              "      <td>2.96</td>\n",
              "      <td>7.50</td>\n",
              "      <td>1.20</td>\n",
              "      <td>3.00</td>\n",
              "      <td>1547.0</td>\n",
              "    </tr>\n",
              "    <tr>\n",
              "      <th>92</th>\n",
              "      <td>12.69</td>\n",
              "      <td>1.53</td>\n",
              "      <td>2.26</td>\n",
              "      <td>20.7</td>\n",
              "      <td>80.0</td>\n",
              "      <td>1.38</td>\n",
              "      <td>1.46</td>\n",
              "      <td>0.58</td>\n",
              "      <td>1.62</td>\n",
              "      <td>3.05</td>\n",
              "      <td>0.96</td>\n",
              "      <td>2.06</td>\n",
              "      <td>495.0</td>\n",
              "    </tr>\n",
              "    <tr>\n",
              "      <th>102</th>\n",
              "      <td>12.34</td>\n",
              "      <td>2.45</td>\n",
              "      <td>2.46</td>\n",
              "      <td>21.0</td>\n",
              "      <td>98.0</td>\n",
              "      <td>2.56</td>\n",
              "      <td>2.11</td>\n",
              "      <td>0.34</td>\n",
              "      <td>1.31</td>\n",
              "      <td>2.80</td>\n",
              "      <td>0.80</td>\n",
              "      <td>3.38</td>\n",
              "      <td>438.0</td>\n",
              "    </tr>\n",
              "  </tbody>\n",
              "</table>\n",
              "<p>142 rows × 13 columns</p>\n",
              "</div>\n",
              "      <button class=\"colab-df-convert\" onclick=\"convertToInteractive('df-5841f255-21c4-44bc-aaa2-dbe8af5a1716')\"\n",
              "              title=\"Convert this dataframe to an interactive table.\"\n",
              "              style=\"display:none;\">\n",
              "        \n",
              "  <svg xmlns=\"http://www.w3.org/2000/svg\" height=\"24px\"viewBox=\"0 0 24 24\"\n",
              "       width=\"24px\">\n",
              "    <path d=\"M0 0h24v24H0V0z\" fill=\"none\"/>\n",
              "    <path d=\"M18.56 5.44l.94 2.06.94-2.06 2.06-.94-2.06-.94-.94-2.06-.94 2.06-2.06.94zm-11 1L8.5 8.5l.94-2.06 2.06-.94-2.06-.94L8.5 2.5l-.94 2.06-2.06.94zm10 10l.94 2.06.94-2.06 2.06-.94-2.06-.94-.94-2.06-.94 2.06-2.06.94z\"/><path d=\"M17.41 7.96l-1.37-1.37c-.4-.4-.92-.59-1.43-.59-.52 0-1.04.2-1.43.59L10.3 9.45l-7.72 7.72c-.78.78-.78 2.05 0 2.83L4 21.41c.39.39.9.59 1.41.59.51 0 1.02-.2 1.41-.59l7.78-7.78 2.81-2.81c.8-.78.8-2.07 0-2.86zM5.41 20L4 18.59l7.72-7.72 1.47 1.35L5.41 20z\"/>\n",
              "  </svg>\n",
              "      </button>\n",
              "      \n",
              "  <style>\n",
              "    .colab-df-container {\n",
              "      display:flex;\n",
              "      flex-wrap:wrap;\n",
              "      gap: 12px;\n",
              "    }\n",
              "\n",
              "    .colab-df-convert {\n",
              "      background-color: #E8F0FE;\n",
              "      border: none;\n",
              "      border-radius: 50%;\n",
              "      cursor: pointer;\n",
              "      display: none;\n",
              "      fill: #1967D2;\n",
              "      height: 32px;\n",
              "      padding: 0 0 0 0;\n",
              "      width: 32px;\n",
              "    }\n",
              "\n",
              "    .colab-df-convert:hover {\n",
              "      background-color: #E2EBFA;\n",
              "      box-shadow: 0px 1px 2px rgba(60, 64, 67, 0.3), 0px 1px 3px 1px rgba(60, 64, 67, 0.15);\n",
              "      fill: #174EA6;\n",
              "    }\n",
              "\n",
              "    [theme=dark] .colab-df-convert {\n",
              "      background-color: #3B4455;\n",
              "      fill: #D2E3FC;\n",
              "    }\n",
              "\n",
              "    [theme=dark] .colab-df-convert:hover {\n",
              "      background-color: #434B5C;\n",
              "      box-shadow: 0px 1px 3px 1px rgba(0, 0, 0, 0.15);\n",
              "      filter: drop-shadow(0px 1px 2px rgba(0, 0, 0, 0.3));\n",
              "      fill: #FFFFFF;\n",
              "    }\n",
              "  </style>\n",
              "\n",
              "      <script>\n",
              "        const buttonEl =\n",
              "          document.querySelector('#df-5841f255-21c4-44bc-aaa2-dbe8af5a1716 button.colab-df-convert');\n",
              "        buttonEl.style.display =\n",
              "          google.colab.kernel.accessAllowed ? 'block' : 'none';\n",
              "\n",
              "        async function convertToInteractive(key) {\n",
              "          const element = document.querySelector('#df-5841f255-21c4-44bc-aaa2-dbe8af5a1716');\n",
              "          const dataTable =\n",
              "            await google.colab.kernel.invokeFunction('convertToInteractive',\n",
              "                                                     [key], {});\n",
              "          if (!dataTable) return;\n",
              "\n",
              "          const docLinkHtml = 'Like what you see? Visit the ' +\n",
              "            '<a target=\"_blank\" href=https://colab.research.google.com/notebooks/data_table.ipynb>data table notebook</a>'\n",
              "            + ' to learn more about interactive tables.';\n",
              "          element.innerHTML = '';\n",
              "          dataTable['output_type'] = 'display_data';\n",
              "          await google.colab.output.renderOutput(dataTable, element);\n",
              "          const docLink = document.createElement('div');\n",
              "          docLink.innerHTML = docLinkHtml;\n",
              "          element.appendChild(docLink);\n",
              "        }\n",
              "      </script>\n",
              "    </div>\n",
              "  </div>\n",
              "  "
            ]
          },
          "metadata": {},
          "execution_count": 3
        }
      ]
    },
    {
      "cell_type": "code",
      "source": [
        "# Train the SVM classifier using one-versus-all strategy\n",
        "clf = SVC(kernel='linear', C=1, decision_function_shape='ovr')\n",
        "clf.fit(X_train, y_train)\n",
        "\n",
        "# Predict the labels of the test set\n",
        "y_pred = clf.predict(X_test)\n",
        "y_pred"
      ],
      "metadata": {
        "colab": {
          "base_uri": "https://localhost:8080/"
        },
        "id": "ZZmt1IRRqG3v",
        "outputId": "dcce630c-4f0f-4408-9000-7ea281888323"
      },
      "execution_count": 4,
      "outputs": [
        {
          "output_type": "execute_result",
          "data": {
            "text/plain": [
              "array([0, 0, 2, 0, 1, 0, 1, 2, 1, 2, 0, 2, 0, 1, 0, 1, 1, 1, 0, 1, 0, 1,\n",
              "       1, 2, 2, 2, 1, 1, 1, 0, 0, 1, 2, 0, 0, 0])"
            ]
          },
          "metadata": {},
          "execution_count": 4
        }
      ]
    },
    {
      "cell_type": "code",
      "source": [
        "cross_val_score(clf, X_train, y_train).mean()"
      ],
      "metadata": {
        "colab": {
          "base_uri": "https://localhost:8080/"
        },
        "id": "i_PgTxD8tdTe",
        "outputId": "579afc5f-9731-4e03-fed1-477960b4e345"
      },
      "execution_count": 5,
      "outputs": [
        {
          "output_type": "execute_result",
          "data": {
            "text/plain": [
              "0.9435960591133006"
            ]
          },
          "metadata": {},
          "execution_count": 5
        }
      ]
    },
    {
      "cell_type": "code",
      "source": [
        "from sklearn.datasets import fetch_california_housing\n",
        "from sklearn.model_selection import train_test_split, GridSearchCV\n",
        "from sklearn.svm import SVR\n",
        "from sklearn.metrics import mean_squared_error\n",
        "from sklearn.pipeline import Pipeline\n",
        "from sklearn.preprocessing import StandardScaler\n",
        "from scipy.stats import loguniform, uniform\n",
        "from sklearn.model_selection import RandomizedSearchCV"
      ],
      "metadata": {
        "id": "jgaaVSssreGl"
      },
      "execution_count": 6,
      "outputs": []
    },
    {
      "cell_type": "code",
      "source": [
        "data = fetch_california_housing()\n",
        "X = data.data\n",
        "y = data.target"
      ],
      "metadata": {
        "id": "y11HavhNr5Ru"
      },
      "execution_count": 7,
      "outputs": []
    },
    {
      "cell_type": "code",
      "source": [
        "X_train_full, X_test, y_train_full, y_test = train_test_split(X, y, test_size=0.2, random_state=42)\n",
        "\n",
        "X_train, X_valid, y_train, y_valid = train_test_split(X_train_full, y_train_full, test_size=0.25, random_state=42)"
      ],
      "metadata": {
        "id": "-Is8ttncr5ta"
      },
      "execution_count": 8,
      "outputs": []
    },
    {
      "cell_type": "code",
      "source": [
        "svm_reg = make_pipeline(StandardScaler(), SVR())"
      ],
      "metadata": {
        "id": "BqZTBw5Ir8RB"
      },
      "execution_count": 10,
      "outputs": []
    },
    {
      "cell_type": "code",
      "source": [
        "param_grid = {\n",
        "    \"svr__gamma\": loguniform(0.001, 0.1),\n",
        "    \"svr__C\": uniform(1, 10)\n",
        "}"
      ],
      "metadata": {
        "id": "6HOXH_hTss1W"
      },
      "execution_count": 11,
      "outputs": []
    },
    {
      "cell_type": "code",
      "source": [
        "rnd_search = RandomizedSearchCV(svm_reg, param_grid, n_iter=100, cv=5,\n",
        "                                   random_state=42)\n",
        "rnd_search.fit(X_train[:2000], y_train[:2000])"
      ],
      "metadata": {
        "colab": {
          "base_uri": "https://localhost:8080/",
          "height": 152
        },
        "id": "ed6ytwcWsZwK",
        "outputId": "97090cea-a19a-49af-c132-2f49bbf5c753"
      },
      "execution_count": 12,
      "outputs": [
        {
          "output_type": "execute_result",
          "data": {
            "text/plain": [
              "RandomizedSearchCV(cv=5,\n",
              "                   estimator=Pipeline(steps=[('standardscaler',\n",
              "                                              StandardScaler()),\n",
              "                                             ('svr', SVR())]),\n",
              "                   n_iter=100,\n",
              "                   param_distributions={'svr__C': <scipy.stats._distn_infrastructure.rv_continuous_frozen object at 0x7f7e48b9e110>,\n",
              "                                        'svr__gamma': <scipy.stats._distn_infrastructure.rv_continuous_frozen object at 0x7f7e165d7ca0>},\n",
              "                   random_state=42)"
            ],
            "text/html": [
              "<style>#sk-container-id-1 {color: black;background-color: white;}#sk-container-id-1 pre{padding: 0;}#sk-container-id-1 div.sk-toggleable {background-color: white;}#sk-container-id-1 label.sk-toggleable__label {cursor: pointer;display: block;width: 100%;margin-bottom: 0;padding: 0.3em;box-sizing: border-box;text-align: center;}#sk-container-id-1 label.sk-toggleable__label-arrow:before {content: \"▸\";float: left;margin-right: 0.25em;color: #696969;}#sk-container-id-1 label.sk-toggleable__label-arrow:hover:before {color: black;}#sk-container-id-1 div.sk-estimator:hover label.sk-toggleable__label-arrow:before {color: black;}#sk-container-id-1 div.sk-toggleable__content {max-height: 0;max-width: 0;overflow: hidden;text-align: left;background-color: #f0f8ff;}#sk-container-id-1 div.sk-toggleable__content pre {margin: 0.2em;color: black;border-radius: 0.25em;background-color: #f0f8ff;}#sk-container-id-1 input.sk-toggleable__control:checked~div.sk-toggleable__content {max-height: 200px;max-width: 100%;overflow: auto;}#sk-container-id-1 input.sk-toggleable__control:checked~label.sk-toggleable__label-arrow:before {content: \"▾\";}#sk-container-id-1 div.sk-estimator input.sk-toggleable__control:checked~label.sk-toggleable__label {background-color: #d4ebff;}#sk-container-id-1 div.sk-label input.sk-toggleable__control:checked~label.sk-toggleable__label {background-color: #d4ebff;}#sk-container-id-1 input.sk-hidden--visually {border: 0;clip: rect(1px 1px 1px 1px);clip: rect(1px, 1px, 1px, 1px);height: 1px;margin: -1px;overflow: hidden;padding: 0;position: absolute;width: 1px;}#sk-container-id-1 div.sk-estimator {font-family: monospace;background-color: #f0f8ff;border: 1px dotted black;border-radius: 0.25em;box-sizing: border-box;margin-bottom: 0.5em;}#sk-container-id-1 div.sk-estimator:hover {background-color: #d4ebff;}#sk-container-id-1 div.sk-parallel-item::after {content: \"\";width: 100%;border-bottom: 1px solid gray;flex-grow: 1;}#sk-container-id-1 div.sk-label:hover label.sk-toggleable__label {background-color: #d4ebff;}#sk-container-id-1 div.sk-serial::before {content: \"\";position: absolute;border-left: 1px solid gray;box-sizing: border-box;top: 0;bottom: 0;left: 50%;z-index: 0;}#sk-container-id-1 div.sk-serial {display: flex;flex-direction: column;align-items: center;background-color: white;padding-right: 0.2em;padding-left: 0.2em;position: relative;}#sk-container-id-1 div.sk-item {position: relative;z-index: 1;}#sk-container-id-1 div.sk-parallel {display: flex;align-items: stretch;justify-content: center;background-color: white;position: relative;}#sk-container-id-1 div.sk-item::before, #sk-container-id-1 div.sk-parallel-item::before {content: \"\";position: absolute;border-left: 1px solid gray;box-sizing: border-box;top: 0;bottom: 0;left: 50%;z-index: -1;}#sk-container-id-1 div.sk-parallel-item {display: flex;flex-direction: column;z-index: 1;position: relative;background-color: white;}#sk-container-id-1 div.sk-parallel-item:first-child::after {align-self: flex-end;width: 50%;}#sk-container-id-1 div.sk-parallel-item:last-child::after {align-self: flex-start;width: 50%;}#sk-container-id-1 div.sk-parallel-item:only-child::after {width: 0;}#sk-container-id-1 div.sk-dashed-wrapped {border: 1px dashed gray;margin: 0 0.4em 0.5em 0.4em;box-sizing: border-box;padding-bottom: 0.4em;background-color: white;}#sk-container-id-1 div.sk-label label {font-family: monospace;font-weight: bold;display: inline-block;line-height: 1.2em;}#sk-container-id-1 div.sk-label-container {text-align: center;}#sk-container-id-1 div.sk-container {/* jupyter's `normalize.less` sets `[hidden] { display: none; }` but bootstrap.min.css set `[hidden] { display: none !important; }` so we also need the `!important` here to be able to override the default hidden behavior on the sphinx rendered scikit-learn.org. See: https://github.com/scikit-learn/scikit-learn/issues/21755 */display: inline-block !important;position: relative;}#sk-container-id-1 div.sk-text-repr-fallback {display: none;}</style><div id=\"sk-container-id-1\" class=\"sk-top-container\"><div class=\"sk-text-repr-fallback\"><pre>RandomizedSearchCV(cv=5,\n",
              "                   estimator=Pipeline(steps=[(&#x27;standardscaler&#x27;,\n",
              "                                              StandardScaler()),\n",
              "                                             (&#x27;svr&#x27;, SVR())]),\n",
              "                   n_iter=100,\n",
              "                   param_distributions={&#x27;svr__C&#x27;: &lt;scipy.stats._distn_infrastructure.rv_continuous_frozen object at 0x7f7e48b9e110&gt;,\n",
              "                                        &#x27;svr__gamma&#x27;: &lt;scipy.stats._distn_infrastructure.rv_continuous_frozen object at 0x7f7e165d7ca0&gt;},\n",
              "                   random_state=42)</pre><b>In a Jupyter environment, please rerun this cell to show the HTML representation or trust the notebook. <br />On GitHub, the HTML representation is unable to render, please try loading this page with nbviewer.org.</b></div><div class=\"sk-container\" hidden><div class=\"sk-item sk-dashed-wrapped\"><div class=\"sk-label-container\"><div class=\"sk-label sk-toggleable\"><input class=\"sk-toggleable__control sk-hidden--visually\" id=\"sk-estimator-id-1\" type=\"checkbox\" ><label for=\"sk-estimator-id-1\" class=\"sk-toggleable__label sk-toggleable__label-arrow\">RandomizedSearchCV</label><div class=\"sk-toggleable__content\"><pre>RandomizedSearchCV(cv=5,\n",
              "                   estimator=Pipeline(steps=[(&#x27;standardscaler&#x27;,\n",
              "                                              StandardScaler()),\n",
              "                                             (&#x27;svr&#x27;, SVR())]),\n",
              "                   n_iter=100,\n",
              "                   param_distributions={&#x27;svr__C&#x27;: &lt;scipy.stats._distn_infrastructure.rv_continuous_frozen object at 0x7f7e48b9e110&gt;,\n",
              "                                        &#x27;svr__gamma&#x27;: &lt;scipy.stats._distn_infrastructure.rv_continuous_frozen object at 0x7f7e165d7ca0&gt;},\n",
              "                   random_state=42)</pre></div></div></div><div class=\"sk-parallel\"><div class=\"sk-parallel-item\"><div class=\"sk-item\"><div class=\"sk-label-container\"><div class=\"sk-label sk-toggleable\"><input class=\"sk-toggleable__control sk-hidden--visually\" id=\"sk-estimator-id-2\" type=\"checkbox\" ><label for=\"sk-estimator-id-2\" class=\"sk-toggleable__label sk-toggleable__label-arrow\">estimator: Pipeline</label><div class=\"sk-toggleable__content\"><pre>Pipeline(steps=[(&#x27;standardscaler&#x27;, StandardScaler()), (&#x27;svr&#x27;, SVR())])</pre></div></div></div><div class=\"sk-serial\"><div class=\"sk-item\"><div class=\"sk-serial\"><div class=\"sk-item\"><div class=\"sk-estimator sk-toggleable\"><input class=\"sk-toggleable__control sk-hidden--visually\" id=\"sk-estimator-id-3\" type=\"checkbox\" ><label for=\"sk-estimator-id-3\" class=\"sk-toggleable__label sk-toggleable__label-arrow\">StandardScaler</label><div class=\"sk-toggleable__content\"><pre>StandardScaler()</pre></div></div></div><div class=\"sk-item\"><div class=\"sk-estimator sk-toggleable\"><input class=\"sk-toggleable__control sk-hidden--visually\" id=\"sk-estimator-id-4\" type=\"checkbox\" ><label for=\"sk-estimator-id-4\" class=\"sk-toggleable__label sk-toggleable__label-arrow\">SVR</label><div class=\"sk-toggleable__content\"><pre>SVR()</pre></div></div></div></div></div></div></div></div></div></div></div></div>"
            ]
          },
          "metadata": {},
          "execution_count": 12
        }
      ]
    },
    {
      "cell_type": "code",
      "source": [
        "rnd_search.best_estimator_"
      ],
      "metadata": {
        "id": "_oUNCNJttAKj",
        "colab": {
          "base_uri": "https://localhost:8080/",
          "height": 126
        },
        "outputId": "c8abcd24-17ea-48b1-a31a-c5d68a15e930"
      },
      "execution_count": 13,
      "outputs": [
        {
          "output_type": "execute_result",
          "data": {
            "text/plain": [
              "Pipeline(steps=[('standardscaler', StandardScaler()),\n",
              "                ('svr', SVR(C=4.63629602379294, gamma=0.08781408196485974))])"
            ],
            "text/html": [
              "<style>#sk-container-id-2 {color: black;background-color: white;}#sk-container-id-2 pre{padding: 0;}#sk-container-id-2 div.sk-toggleable {background-color: white;}#sk-container-id-2 label.sk-toggleable__label {cursor: pointer;display: block;width: 100%;margin-bottom: 0;padding: 0.3em;box-sizing: border-box;text-align: center;}#sk-container-id-2 label.sk-toggleable__label-arrow:before {content: \"▸\";float: left;margin-right: 0.25em;color: #696969;}#sk-container-id-2 label.sk-toggleable__label-arrow:hover:before {color: black;}#sk-container-id-2 div.sk-estimator:hover label.sk-toggleable__label-arrow:before {color: black;}#sk-container-id-2 div.sk-toggleable__content {max-height: 0;max-width: 0;overflow: hidden;text-align: left;background-color: #f0f8ff;}#sk-container-id-2 div.sk-toggleable__content pre {margin: 0.2em;color: black;border-radius: 0.25em;background-color: #f0f8ff;}#sk-container-id-2 input.sk-toggleable__control:checked~div.sk-toggleable__content {max-height: 200px;max-width: 100%;overflow: auto;}#sk-container-id-2 input.sk-toggleable__control:checked~label.sk-toggleable__label-arrow:before {content: \"▾\";}#sk-container-id-2 div.sk-estimator input.sk-toggleable__control:checked~label.sk-toggleable__label {background-color: #d4ebff;}#sk-container-id-2 div.sk-label input.sk-toggleable__control:checked~label.sk-toggleable__label {background-color: #d4ebff;}#sk-container-id-2 input.sk-hidden--visually {border: 0;clip: rect(1px 1px 1px 1px);clip: rect(1px, 1px, 1px, 1px);height: 1px;margin: -1px;overflow: hidden;padding: 0;position: absolute;width: 1px;}#sk-container-id-2 div.sk-estimator {font-family: monospace;background-color: #f0f8ff;border: 1px dotted black;border-radius: 0.25em;box-sizing: border-box;margin-bottom: 0.5em;}#sk-container-id-2 div.sk-estimator:hover {background-color: #d4ebff;}#sk-container-id-2 div.sk-parallel-item::after {content: \"\";width: 100%;border-bottom: 1px solid gray;flex-grow: 1;}#sk-container-id-2 div.sk-label:hover label.sk-toggleable__label {background-color: #d4ebff;}#sk-container-id-2 div.sk-serial::before {content: \"\";position: absolute;border-left: 1px solid gray;box-sizing: border-box;top: 0;bottom: 0;left: 50%;z-index: 0;}#sk-container-id-2 div.sk-serial {display: flex;flex-direction: column;align-items: center;background-color: white;padding-right: 0.2em;padding-left: 0.2em;position: relative;}#sk-container-id-2 div.sk-item {position: relative;z-index: 1;}#sk-container-id-2 div.sk-parallel {display: flex;align-items: stretch;justify-content: center;background-color: white;position: relative;}#sk-container-id-2 div.sk-item::before, #sk-container-id-2 div.sk-parallel-item::before {content: \"\";position: absolute;border-left: 1px solid gray;box-sizing: border-box;top: 0;bottom: 0;left: 50%;z-index: -1;}#sk-container-id-2 div.sk-parallel-item {display: flex;flex-direction: column;z-index: 1;position: relative;background-color: white;}#sk-container-id-2 div.sk-parallel-item:first-child::after {align-self: flex-end;width: 50%;}#sk-container-id-2 div.sk-parallel-item:last-child::after {align-self: flex-start;width: 50%;}#sk-container-id-2 div.sk-parallel-item:only-child::after {width: 0;}#sk-container-id-2 div.sk-dashed-wrapped {border: 1px dashed gray;margin: 0 0.4em 0.5em 0.4em;box-sizing: border-box;padding-bottom: 0.4em;background-color: white;}#sk-container-id-2 div.sk-label label {font-family: monospace;font-weight: bold;display: inline-block;line-height: 1.2em;}#sk-container-id-2 div.sk-label-container {text-align: center;}#sk-container-id-2 div.sk-container {/* jupyter's `normalize.less` sets `[hidden] { display: none; }` but bootstrap.min.css set `[hidden] { display: none !important; }` so we also need the `!important` here to be able to override the default hidden behavior on the sphinx rendered scikit-learn.org. See: https://github.com/scikit-learn/scikit-learn/issues/21755 */display: inline-block !important;position: relative;}#sk-container-id-2 div.sk-text-repr-fallback {display: none;}</style><div id=\"sk-container-id-2\" class=\"sk-top-container\"><div class=\"sk-text-repr-fallback\"><pre>Pipeline(steps=[(&#x27;standardscaler&#x27;, StandardScaler()),\n",
              "                (&#x27;svr&#x27;, SVR(C=4.63629602379294, gamma=0.08781408196485974))])</pre><b>In a Jupyter environment, please rerun this cell to show the HTML representation or trust the notebook. <br />On GitHub, the HTML representation is unable to render, please try loading this page with nbviewer.org.</b></div><div class=\"sk-container\" hidden><div class=\"sk-item sk-dashed-wrapped\"><div class=\"sk-label-container\"><div class=\"sk-label sk-toggleable\"><input class=\"sk-toggleable__control sk-hidden--visually\" id=\"sk-estimator-id-5\" type=\"checkbox\" ><label for=\"sk-estimator-id-5\" class=\"sk-toggleable__label sk-toggleable__label-arrow\">Pipeline</label><div class=\"sk-toggleable__content\"><pre>Pipeline(steps=[(&#x27;standardscaler&#x27;, StandardScaler()),\n",
              "                (&#x27;svr&#x27;, SVR(C=4.63629602379294, gamma=0.08781408196485974))])</pre></div></div></div><div class=\"sk-serial\"><div class=\"sk-item\"><div class=\"sk-estimator sk-toggleable\"><input class=\"sk-toggleable__control sk-hidden--visually\" id=\"sk-estimator-id-6\" type=\"checkbox\" ><label for=\"sk-estimator-id-6\" class=\"sk-toggleable__label sk-toggleable__label-arrow\">StandardScaler</label><div class=\"sk-toggleable__content\"><pre>StandardScaler()</pre></div></div></div><div class=\"sk-item\"><div class=\"sk-estimator sk-toggleable\"><input class=\"sk-toggleable__control sk-hidden--visually\" id=\"sk-estimator-id-7\" type=\"checkbox\" ><label for=\"sk-estimator-id-7\" class=\"sk-toggleable__label sk-toggleable__label-arrow\">SVR</label><div class=\"sk-toggleable__content\"><pre>SVR(C=4.63629602379294, gamma=0.08781408196485974)</pre></div></div></div></div></div></div></div>"
            ]
          },
          "metadata": {},
          "execution_count": 13
        }
      ]
    },
    {
      "cell_type": "code",
      "source": [
        "-cross_val_score(rnd_search.best_estimator_, X_train, y_train,\n",
        "                 scoring=\"neg_root_mean_squared_error\")"
      ],
      "metadata": {
        "id": "lzIT9jhdtKR4"
      },
      "execution_count": null,
      "outputs": []
    },
    {
      "cell_type": "code",
      "source": [
        "y_pred = rnd_search.best_estimator_.predict(X_test)\n",
        "rmse = mean_squared_error(y_test, y_pred, squared=False)\n",
        "rmse"
      ],
      "metadata": {
        "id": "s73uFb91tKoS"
      },
      "execution_count": null,
      "outputs": []
    }
  ]
}